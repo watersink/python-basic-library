{
 "cells": [
  {
   "cell_type": "code",
   "execution_count": 30,
   "metadata": {},
   "outputs": [],
   "source": [
    "from keras.datasets import mnist"
   ]
  },
  {
   "cell_type": "code",
   "execution_count": 65,
   "metadata": {},
   "outputs": [],
   "source": [
    "from keras.utils import to_categorical\n",
    "import numpy as np\n",
    "import cv2\n",
    "num_classes=10\n",
    "(x_train,y_train),(x_test,y_test)=mnist.load_data()\n",
    "x_train=x_train.reshape(x_train.shape[0],x_train.shape[1],x_train.shape[2],1)\n",
    "x_train=x_train.astype(np.float32)/255\n",
    "x_test=x_test.astype(np.float32)/255\n",
    "y_train = to_categorical(y_train, num_classes)\n",
    "x_test=x_test.reshape(x_test.shape[0],x_test.shape[1],x_test.shape[2],1)\n",
    "y_test = to_categorical(y_test, num_classes)"
   ]
  },
  {
   "cell_type": "code",
   "execution_count": 66,
   "metadata": {},
   "outputs": [],
   "source": [
    "from keras.models import Sequential\n",
    "from keras.layers import Activation,Conv2D,MaxPooling2D,Flatten,Dropout,Dense\n",
    "model = Sequential()\n",
    "model.add(Conv2D(32,(3,3),padding='same',input_shape=(x_train.shape[1],x_train.shape[2],1)))\n",
    "model.add(Activation('relu'))\n",
    "model.add(Conv2D(32,(3,3)))\n",
    "model.add(Activation('relu'))\n",
    "model.add(MaxPooling2D(pool_size=(2,2)))\n",
    "model.add(Dropout(0.25))\n",
    "model.add(Conv2D(64,(3,3), padding='same'))\n",
    "model.add(Activation('relu'))\n",
    "model.add(Conv2D(64,(3, 3)))\n",
    "model.add(Activation('relu'))\n",
    "model.add(MaxPooling2D(pool_size=(2,2)))\n",
    "model.add(Dropout(0.25))\n",
    "model.add(Flatten())\n",
    "model.add(Dense(512))\n",
    "model.add(Activation('relu'))\n",
    "model.add(Dropout(0.5))\n",
    "model.add(Dense(num_classes))\n",
    "model.add(Activation('softmax'))"
   ]
  },
  {
   "cell_type": "code",
   "execution_count": 67,
   "metadata": {},
   "outputs": [
    {
     "name": "stdout",
     "output_type": "stream",
     "text": [
      "Train on 60000 samples, validate on 10000 samples\n",
      "Epoch 1/15\n",
      "60000/60000 [==============================] - 20s - loss: 0.1504 - acc: 0.9527 - val_loss: 0.0510 - val_acc: 0.9851\n",
      "Epoch 2/15\n",
      "60000/60000 [==============================] - 17s - loss: 0.0635 - acc: 0.9820 - val_loss: 0.0316 - val_acc: 0.9895\n",
      "Epoch 3/15\n",
      "60000/60000 [==============================] - 16s - loss: 0.0578 - acc: 0.9831 - val_loss: 0.0352 - val_acc: 0.9892\n",
      "Epoch 4/15\n",
      "60000/60000 [==============================] - 17s - loss: 0.0573 - acc: 0.9848 - val_loss: 0.0548 - val_acc: 0.9873\n",
      "Epoch 5/15\n",
      "60000/60000 [==============================] - 17s - loss: 0.0610 - acc: 0.9847 - val_loss: 0.0421 - val_acc: 0.9888\n",
      "Epoch 6/15\n",
      "60000/60000 [==============================] - 17s - loss: 0.0601 - acc: 0.9844 - val_loss: 0.0462 - val_acc: 0.9863\n",
      "Epoch 7/15\n",
      "60000/60000 [==============================] - 17s - loss: 0.0649 - acc: 0.9833 - val_loss: 0.0354 - val_acc: 0.9887\n",
      "Epoch 8/15\n",
      "60000/60000 [==============================] - 17s - loss: 0.0680 - acc: 0.9831 - val_loss: 0.0299 - val_acc: 0.9915\n",
      "Epoch 9/15\n",
      "60000/60000 [==============================] - 17s - loss: 0.0712 - acc: 0.9821 - val_loss: 0.0470 - val_acc: 0.9849\n",
      "Epoch 10/15\n",
      "60000/60000 [==============================] - 17s - loss: 0.0762 - acc: 0.9820 - val_loss: 0.0393 - val_acc: 0.9887\n",
      "Epoch 11/15\n",
      "60000/60000 [==============================] - 17s - loss: 0.0806 - acc: 0.9818 - val_loss: 0.0388 - val_acc: 0.9883\n",
      "Epoch 12/15\n",
      "60000/60000 [==============================] - 17s - loss: 0.0893 - acc: 0.9803 - val_loss: 0.0666 - val_acc: 0.9858\n",
      "Epoch 13/15\n",
      "60000/60000 [==============================] - 17s - loss: 0.0982 - acc: 0.9790 - val_loss: 0.0379 - val_acc: 0.9892\n",
      "Epoch 14/15\n",
      "60000/60000 [==============================] - 17s - loss: 0.0967 - acc: 0.9782 - val_loss: 0.1337 - val_acc: 0.9641\n",
      "Epoch 15/15\n",
      "60000/60000 [==============================] - 17s - loss: 0.1017 - acc: 0.9773 - val_loss: 0.0409 - val_acc: 0.9887\n"
     ]
    },
    {
     "data": {
      "text/plain": [
       "<keras.callbacks.History at 0x1a701240a20>"
      ]
     },
     "execution_count": 67,
     "metadata": {},
     "output_type": "execute_result"
    }
   ],
   "source": [
    "model.compile(optimizer='rmsprop',loss='categorical_crossentropy',metrics=['accuracy'])\n",
    "model.fit(x_train,y_train,batch_size=32,epochs=15,verbose=1,validation_data=(x_test,y_test))"
   ]
  },
  {
   "cell_type": "code",
   "execution_count": 68,
   "metadata": {
    "collapsed": true
   },
   "outputs": [],
   "source": [
    "from keras.models import load_model\n",
    "model.save('mnist.h5')"
   ]
  },
  {
   "cell_type": "code",
   "execution_count": null,
   "metadata": {
    "collapsed": true
   },
   "outputs": [],
   "source": []
  }
 ],
 "metadata": {
  "kernelspec": {
   "display_name": "Python 3",
   "language": "python",
   "name": "python3"
  },
  "language_info": {
   "codemirror_mode": {
    "name": "ipython",
    "version": 3
   },
   "file_extension": ".py",
   "mimetype": "text/x-python",
   "name": "python",
   "nbconvert_exporter": "python",
   "pygments_lexer": "ipython3",
   "version": "3.6.1"
  }
 },
 "nbformat": 4,
 "nbformat_minor": 2
}
